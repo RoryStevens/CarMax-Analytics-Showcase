{
 "cells": [
  {
   "cell_type": "markdown",
   "source": [
    "# CarMax Analytics Showcase: Winter 2023\n",
    "## Rory Stevens\n",
    "Desc"
   ],
   "metadata": {
    "collapsed": false,
    "pycharm": {
     "name": "#%% md\n"
    }
   }
  },
  {
   "cell_type": "code",
   "execution_count": 26,
   "outputs": [],
   "source": [
    "# Imports\n",
    "import re\n",
    "import time\n",
    "import pandas as pd\n",
    "pd.options.mode.chained_assignment = None  # default='warn'\n",
    "import numpy as np\n",
    "import matplotlib.pyplot as plt\n",
    "%matplotlib inline\n",
    "import seaborn as sns"
   ],
   "metadata": {
    "collapsed": false,
    "pycharm": {
     "name": "#%%\n"
    }
   }
  },
  {
   "cell_type": "markdown",
   "source": [
    "### Data Loading and Preliminary Processing"
   ],
   "metadata": {
    "collapsed": false,
    "pycharm": {
     "name": "#%% md\n"
    }
   }
  },
  {
   "cell_type": "code",
   "execution_count": 2,
   "outputs": [
    {
     "name": "stdout",
     "output_type": "stream",
     "text": [
      "Shape: (200000, 30)\n",
      "Memory Usage: 224052594 bytes ... 224.05 Mb\n"
     ]
    },
    {
     "data": {
      "text/plain": "          price appraisal_offer  online_appraisal_flag  model_year  \\\n0  $20k to $25k      $0k to $5k                    1.0      2014.0   \n1  $15k to $20k      $0k to $5k                    0.0      2006.0   \n2  $30k to $35k    $35k to $40k                    1.0      2014.0   \n3  $35k to $40k     $5k to $10k                    1.0      2014.0   \n4  $30k to $35k    $15k to $20k                    1.0      2011.0   \n\n            mileage make   model trim_descrip body   color  ...  \\\n0  15k to 20k miles  HDT  HDT_12      Premium    E     Red  ...   \n1       100k+ miles  KQZ  KQZ_23      Premium    E  Silver  ...   \n2   5k to 10k miles  CZV  CZV_10      Premium    E   Black  ...   \n3  15k to 20k miles  IZA  IZA_19      Premium    F  Silver  ...   \n4  35k to 40k miles  HDT   HDT_8      Premium    F    Blue  ...   \n\n  trim_descrip_appraisal  body_appraisal  color_appraisal  engine_appraisal  \\\n0                    NaN               D           Silver              4.0L   \n1            Not Premium               D             Gold              4.2L   \n2                    NaN               E              Red              2.0L   \n3                Premium               F             Blue              3.0L   \n4            Not Premium               E            Black              2.4L   \n\n   cylinders_appraisal  mpg_city_appraisal  mpg_highway_appraisal  \\\n0                    6                17.0                     21   \n1                    6                16.0                     21   \n2                    4                41.0                     38   \n3                    6                17.0                     25   \n4                    4                20.0                     29   \n\n  horsepower_appraisal fuel_capacity_appraisal market  \n0                  236                    21.0     13  \n1                  205                    25.0     11  \n2                  181                    10.0     13  \n3                  230                    16.0     13  \n4                  182                    18.0     16  \n\n[5 rows x 30 columns]",
      "text/html": "<div>\n<style scoped>\n    .dataframe tbody tr th:only-of-type {\n        vertical-align: middle;\n    }\n\n    .dataframe tbody tr th {\n        vertical-align: top;\n    }\n\n    .dataframe thead th {\n        text-align: right;\n    }\n</style>\n<table border=\"1\" class=\"dataframe\">\n  <thead>\n    <tr style=\"text-align: right;\">\n      <th></th>\n      <th>price</th>\n      <th>appraisal_offer</th>\n      <th>online_appraisal_flag</th>\n      <th>model_year</th>\n      <th>mileage</th>\n      <th>make</th>\n      <th>model</th>\n      <th>trim_descrip</th>\n      <th>body</th>\n      <th>color</th>\n      <th>...</th>\n      <th>trim_descrip_appraisal</th>\n      <th>body_appraisal</th>\n      <th>color_appraisal</th>\n      <th>engine_appraisal</th>\n      <th>cylinders_appraisal</th>\n      <th>mpg_city_appraisal</th>\n      <th>mpg_highway_appraisal</th>\n      <th>horsepower_appraisal</th>\n      <th>fuel_capacity_appraisal</th>\n      <th>market</th>\n    </tr>\n  </thead>\n  <tbody>\n    <tr>\n      <th>0</th>\n      <td>$20k to $25k</td>\n      <td>$0k to $5k</td>\n      <td>1.0</td>\n      <td>2014.0</td>\n      <td>15k to 20k miles</td>\n      <td>HDT</td>\n      <td>HDT_12</td>\n      <td>Premium</td>\n      <td>E</td>\n      <td>Red</td>\n      <td>...</td>\n      <td>NaN</td>\n      <td>D</td>\n      <td>Silver</td>\n      <td>4.0L</td>\n      <td>6</td>\n      <td>17.0</td>\n      <td>21</td>\n      <td>236</td>\n      <td>21.0</td>\n      <td>13</td>\n    </tr>\n    <tr>\n      <th>1</th>\n      <td>$15k to $20k</td>\n      <td>$0k to $5k</td>\n      <td>0.0</td>\n      <td>2006.0</td>\n      <td>100k+ miles</td>\n      <td>KQZ</td>\n      <td>KQZ_23</td>\n      <td>Premium</td>\n      <td>E</td>\n      <td>Silver</td>\n      <td>...</td>\n      <td>Not Premium</td>\n      <td>D</td>\n      <td>Gold</td>\n      <td>4.2L</td>\n      <td>6</td>\n      <td>16.0</td>\n      <td>21</td>\n      <td>205</td>\n      <td>25.0</td>\n      <td>11</td>\n    </tr>\n    <tr>\n      <th>2</th>\n      <td>$30k to $35k</td>\n      <td>$35k to $40k</td>\n      <td>1.0</td>\n      <td>2014.0</td>\n      <td>5k to 10k miles</td>\n      <td>CZV</td>\n      <td>CZV_10</td>\n      <td>Premium</td>\n      <td>E</td>\n      <td>Black</td>\n      <td>...</td>\n      <td>NaN</td>\n      <td>E</td>\n      <td>Red</td>\n      <td>2.0L</td>\n      <td>4</td>\n      <td>41.0</td>\n      <td>38</td>\n      <td>181</td>\n      <td>10.0</td>\n      <td>13</td>\n    </tr>\n    <tr>\n      <th>3</th>\n      <td>$35k to $40k</td>\n      <td>$5k to $10k</td>\n      <td>1.0</td>\n      <td>2014.0</td>\n      <td>15k to 20k miles</td>\n      <td>IZA</td>\n      <td>IZA_19</td>\n      <td>Premium</td>\n      <td>F</td>\n      <td>Silver</td>\n      <td>...</td>\n      <td>Premium</td>\n      <td>F</td>\n      <td>Blue</td>\n      <td>3.0L</td>\n      <td>6</td>\n      <td>17.0</td>\n      <td>25</td>\n      <td>230</td>\n      <td>16.0</td>\n      <td>13</td>\n    </tr>\n    <tr>\n      <th>4</th>\n      <td>$30k to $35k</td>\n      <td>$15k to $20k</td>\n      <td>1.0</td>\n      <td>2011.0</td>\n      <td>35k to 40k miles</td>\n      <td>HDT</td>\n      <td>HDT_8</td>\n      <td>Premium</td>\n      <td>F</td>\n      <td>Blue</td>\n      <td>...</td>\n      <td>Not Premium</td>\n      <td>E</td>\n      <td>Black</td>\n      <td>2.4L</td>\n      <td>4</td>\n      <td>20.0</td>\n      <td>29</td>\n      <td>182</td>\n      <td>18.0</td>\n      <td>16</td>\n    </tr>\n  </tbody>\n</table>\n<p>5 rows × 30 columns</p>\n</div>"
     },
     "execution_count": 2,
     "metadata": {},
     "output_type": "execute_result"
    }
   ],
   "source": [
    "raw_df = pd.read_csv(\"./Data/ShowcaseDataWinter2023.csv\")\n",
    "raw_memory = raw_df.memory_usage(deep=True).sum()\n",
    "# To conserve energy, compute time --> limit_size = a number\n",
    "\n",
    "print(f'Shape: {raw_df.shape}\\nMemory Usage: {raw_memory} bytes ... {raw_memory/1000000:.2f} Mb')\n",
    "raw_df.head()"
   ],
   "metadata": {
    "collapsed": false,
    "pycharm": {
     "name": "#%%\n"
    }
   }
  },
  {
   "cell_type": "markdown",
   "source": [
    "Taking a look at the 30 features, it is apparent that there are some features that need conversion to numeric values, namely the features denoted with ranges (ex. \"20k to 25k miles\")."
   ],
   "metadata": {
    "collapsed": false,
    "pycharm": {
     "name": "#%% md\n"
    }
   }
  },
  {
   "cell_type": "code",
   "execution_count": 3,
   "outputs": [],
   "source": [
    "# Can use a smaller portion of dataset for working on underpowered machines (or machines with small amount of available memory)\n",
    "use_limited = False\n",
    "\n",
    "if use_limited:\n",
    "    raw_df = raw_df.iloc[:300,:]\n",
    "    print(raw_df.shape)\n",
    "    raw_df.head()"
   ],
   "metadata": {
    "collapsed": false,
    "pycharm": {
     "name": "#%%\n"
    }
   }
  },
  {
   "cell_type": "markdown",
   "source": [
    "#### Take a look at dataset info with df.info()"
   ],
   "metadata": {
    "collapsed": false,
    "pycharm": {
     "name": "#%% md\n"
    }
   }
  },
  {
   "cell_type": "code",
   "execution_count": 4,
   "outputs": [
    {
     "name": "stdout",
     "output_type": "stream",
     "text": [
      "<class 'pandas.core.frame.DataFrame'>\n",
      "RangeIndex: 200000 entries, 0 to 199999\n",
      "Data columns (total 30 columns):\n",
      " #   Column                   Non-Null Count   Dtype  \n",
      "---  ------                   --------------   -----  \n",
      " 0   price                    200000 non-null  object \n",
      " 1   appraisal_offer          200000 non-null  object \n",
      " 2   online_appraisal_flag    196166 non-null  float64\n",
      " 3   model_year               200000 non-null  float64\n",
      " 4   mileage                  200000 non-null  object \n",
      " 5   make                     200000 non-null  object \n",
      " 6   model                    200000 non-null  object \n",
      " 7   trim_descrip             176159 non-null  object \n",
      " 8   body                     189741 non-null  object \n",
      " 9   color                    199967 non-null  object \n",
      " 10  engine                   200000 non-null  object \n",
      " 11  cylinders                200000 non-null  int64  \n",
      " 12  mpg_city                 199410 non-null  float64\n",
      " 13  mpg_highway              199410 non-null  float64\n",
      " 14  horsepower               200000 non-null  int64  \n",
      " 15  fuel_capacity            199996 non-null  float64\n",
      " 16  model_year_appraisal     200000 non-null  float64\n",
      " 17  mileage_appraisal        200000 non-null  object \n",
      " 18  make_appraisal           200000 non-null  object \n",
      " 19  model_appraisal          178492 non-null  object \n",
      " 20  trim_descrip_appraisal   168920 non-null  object \n",
      " 21  body_appraisal           200000 non-null  object \n",
      " 22  color_appraisal          198682 non-null  object \n",
      " 23  engine_appraisal         200000 non-null  object \n",
      " 24  cylinders_appraisal      200000 non-null  int64  \n",
      " 25  mpg_city_appraisal       199999 non-null  float64\n",
      " 26  mpg_highway_appraisal    200000 non-null  int64  \n",
      " 27  horsepower_appraisal     200000 non-null  int64  \n",
      " 28  fuel_capacity_appraisal  199688 non-null  float64\n",
      " 29  market                   200000 non-null  int64  \n",
      "dtypes: float64(8), int64(6), object(16)\n",
      "memory usage: 45.8+ MB\n"
     ]
    }
   ],
   "source": [
    "raw_df.info()"
   ],
   "metadata": {
    "collapsed": false,
    "pycharm": {
     "name": "#%%\n"
    }
   }
  },
  {
   "cell_type": "markdown",
   "source": [
    "We can see that the majority of features are entirely non-null, and there are a majority of features are objects."
   ],
   "metadata": {
    "collapsed": false,
    "pycharm": {
     "name": "#%% md\n"
    }
   }
  },
  {
   "cell_type": "markdown",
   "source": [
    "#### Converting range features\n",
    "\n",
    "The range representation of `price`, `appraisal_offer`, `mileage`, and `mileage_appraisal` is good for human readability, but for analyzing the data, it would be best to represent them as numerical values. So, if we take the midpoint of these ranges, we can preserve the relationship while changing the features to numeric values.\n",
    "\n",
    "We don't know where the actual dollar amount or mileage number lies in these ranges, so no data is lost in this process."
   ],
   "metadata": {
    "collapsed": false,
    "pycharm": {
     "name": "#%% md\n"
    }
   }
  },
  {
   "cell_type": "code",
   "execution_count": 5,
   "outputs": [],
   "source": [
    "def convert_range(range_ : str) -> np.float64:\n",
    "    '''\n",
    "    Converts rages (ex. price and mileage) to their midpoint as a float\n",
    "    :param range_:\n",
    "    :return:\n",
    "    '''\n",
    "    return np.average(list(map(int, re.findall(r'\\d+', range_))))"
   ],
   "metadata": {
    "collapsed": false,
    "pycharm": {
     "name": "#%%\n"
    }
   }
  },
  {
   "cell_type": "code",
   "execution_count": 6,
   "outputs": [
    {
     "name": "stdout",
     "output_type": "stream",
     "text": [
      "['$20k to $25k' '$15k to $20k' '$30k to $35k' '$35k to $40k'\n",
      " '$45k to $50k' '$25k to $30k' '$40k to $45k' '$0 to $15k' '$55k to $60k'\n",
      " '$60k to $65k' '$65k to $70k' '$70k+' '$50k to $55k']\n",
      "\n",
      " ['$0k to $5k' '$35k to $40k' '$5k to $10k' '$15k to $20k' '$40k+'\n",
      " '$20k to $25k' '$10k to $15k' '$25k to $30k' '$30k to $35k']\n",
      "\n",
      " ['15k to 20k miles' '100k+ miles' '5k to 10k miles' '35k to 40k miles'\n",
      " '20k to 25k miles' '30k to 35k miles' '45k to 50k miles'\n",
      " '70k to 75k miles' '25k to 30k miles' '0 to 5k miles' '10k to 15k miles'\n",
      " '80k to 85k miles' '65k to 70k miles' '75k to 80k miles'\n",
      " '55k to 60k miles' '50k to 55k miles' '85k to 90k miles'\n",
      " '40k to 45k miles' '90k to 95k miles' '95k to 100k miles'\n",
      " '60k to 65k miles']\n",
      "\n",
      " ['200k+ miles' '0 to 10k miles' '10k to 20k miles' '100k to 110k miles'\n",
      " '20k to 30k miles' '160k to 170k miles' '30k to 40k miles'\n",
      " '80k to 90k miles' '60k to 70k miles' '110k to 120k miles'\n",
      " '70k to 80k miles' '90k to 100k miles' '190k to 200k miles'\n",
      " '150k to 160k miles' '140k to 150k miles' '120k to 130k miles'\n",
      " '40k to 50k miles' '130k to 140k miles' '170k to 180k miles'\n",
      " '50k to 60k miles' '180k to 190k miles']\n"
     ]
    }
   ],
   "source": [
    "print(raw_df.price.unique())\n",
    "print('\\n', raw_df.appraisal_offer.unique())\n",
    "print('\\n', raw_df.mileage.unique())\n",
    "print('\\n', raw_df.mileage_appraisal.unique())"
   ],
   "metadata": {
    "collapsed": false,
    "pycharm": {
     "name": "#%%\n"
    }
   }
  },
  {
   "cell_type": "markdown",
   "source": [
    "Using `df.unique()`, we see that the maximum values for `price`, `appraisal_offer`, `mileage`, and `mileage_appraisal` are &#36;70k+, &#36;40k+, 100k+ miles, and 200k+ miles, respectively.\n",
    "\n",
    "This means that the values have hard-capped ranges, which will be useful later in Memory Optimization."
   ],
   "metadata": {
    "collapsed": false,
    "pycharm": {
     "name": "#%% md\n"
    }
   }
  },
  {
   "cell_type": "code",
   "execution_count": 7,
   "outputs": [],
   "source": [
    "# String features that represent numerical ranges\n",
    "range_feats = ['price', 'appraisal_offer', 'mileage', 'mileage_appraisal']\n",
    "\n",
    "# Convert each range-based feature value to the midpoint of the range. These are then kept as float as there exists an ordinal relationship.\n",
    "for feature in range_feats:\n",
    "    raw_df[feature] = raw_df[feature].apply(convert_range)\n",
    "# Confirm changes with .dtypes and .head()"
   ],
   "metadata": {
    "collapsed": false,
    "pycharm": {
     "name": "#%%\n"
    }
   }
  },
  {
   "cell_type": "code",
   "execution_count": 8,
   "outputs": [
    {
     "data": {
      "text/plain": "   price  appraisal_offer  online_appraisal_flag  model_year  mileage make  \\\n0   22.5              2.5                    1.0      2014.0     17.5  HDT   \n1   17.5              2.5                    0.0      2006.0    100.0  KQZ   \n2   32.5             37.5                    1.0      2014.0      7.5  CZV   \n3   37.5              7.5                    1.0      2014.0     17.5  IZA   \n4   32.5             17.5                    1.0      2011.0     37.5  HDT   \n\n    model trim_descrip body   color  ... trim_descrip_appraisal  \\\n0  HDT_12      Premium    E     Red  ...                    NaN   \n1  KQZ_23      Premium    E  Silver  ...            Not Premium   \n2  CZV_10      Premium    E   Black  ...                    NaN   \n3  IZA_19      Premium    F  Silver  ...                Premium   \n4   HDT_8      Premium    F    Blue  ...            Not Premium   \n\n   body_appraisal  color_appraisal  engine_appraisal  cylinders_appraisal  \\\n0               D           Silver              4.0L                    6   \n1               D             Gold              4.2L                    6   \n2               E              Red              2.0L                    4   \n3               F             Blue              3.0L                    6   \n4               E            Black              2.4L                    4   \n\n   mpg_city_appraisal  mpg_highway_appraisal  horsepower_appraisal  \\\n0                17.0                     21                   236   \n1                16.0                     21                   205   \n2                41.0                     38                   181   \n3                17.0                     25                   230   \n4                20.0                     29                   182   \n\n  fuel_capacity_appraisal market  \n0                    21.0     13  \n1                    25.0     11  \n2                    10.0     13  \n3                    16.0     13  \n4                    18.0     16  \n\n[5 rows x 30 columns]",
      "text/html": "<div>\n<style scoped>\n    .dataframe tbody tr th:only-of-type {\n        vertical-align: middle;\n    }\n\n    .dataframe tbody tr th {\n        vertical-align: top;\n    }\n\n    .dataframe thead th {\n        text-align: right;\n    }\n</style>\n<table border=\"1\" class=\"dataframe\">\n  <thead>\n    <tr style=\"text-align: right;\">\n      <th></th>\n      <th>price</th>\n      <th>appraisal_offer</th>\n      <th>online_appraisal_flag</th>\n      <th>model_year</th>\n      <th>mileage</th>\n      <th>make</th>\n      <th>model</th>\n      <th>trim_descrip</th>\n      <th>body</th>\n      <th>color</th>\n      <th>...</th>\n      <th>trim_descrip_appraisal</th>\n      <th>body_appraisal</th>\n      <th>color_appraisal</th>\n      <th>engine_appraisal</th>\n      <th>cylinders_appraisal</th>\n      <th>mpg_city_appraisal</th>\n      <th>mpg_highway_appraisal</th>\n      <th>horsepower_appraisal</th>\n      <th>fuel_capacity_appraisal</th>\n      <th>market</th>\n    </tr>\n  </thead>\n  <tbody>\n    <tr>\n      <th>0</th>\n      <td>22.5</td>\n      <td>2.5</td>\n      <td>1.0</td>\n      <td>2014.0</td>\n      <td>17.5</td>\n      <td>HDT</td>\n      <td>HDT_12</td>\n      <td>Premium</td>\n      <td>E</td>\n      <td>Red</td>\n      <td>...</td>\n      <td>NaN</td>\n      <td>D</td>\n      <td>Silver</td>\n      <td>4.0L</td>\n      <td>6</td>\n      <td>17.0</td>\n      <td>21</td>\n      <td>236</td>\n      <td>21.0</td>\n      <td>13</td>\n    </tr>\n    <tr>\n      <th>1</th>\n      <td>17.5</td>\n      <td>2.5</td>\n      <td>0.0</td>\n      <td>2006.0</td>\n      <td>100.0</td>\n      <td>KQZ</td>\n      <td>KQZ_23</td>\n      <td>Premium</td>\n      <td>E</td>\n      <td>Silver</td>\n      <td>...</td>\n      <td>Not Premium</td>\n      <td>D</td>\n      <td>Gold</td>\n      <td>4.2L</td>\n      <td>6</td>\n      <td>16.0</td>\n      <td>21</td>\n      <td>205</td>\n      <td>25.0</td>\n      <td>11</td>\n    </tr>\n    <tr>\n      <th>2</th>\n      <td>32.5</td>\n      <td>37.5</td>\n      <td>1.0</td>\n      <td>2014.0</td>\n      <td>7.5</td>\n      <td>CZV</td>\n      <td>CZV_10</td>\n      <td>Premium</td>\n      <td>E</td>\n      <td>Black</td>\n      <td>...</td>\n      <td>NaN</td>\n      <td>E</td>\n      <td>Red</td>\n      <td>2.0L</td>\n      <td>4</td>\n      <td>41.0</td>\n      <td>38</td>\n      <td>181</td>\n      <td>10.0</td>\n      <td>13</td>\n    </tr>\n    <tr>\n      <th>3</th>\n      <td>37.5</td>\n      <td>7.5</td>\n      <td>1.0</td>\n      <td>2014.0</td>\n      <td>17.5</td>\n      <td>IZA</td>\n      <td>IZA_19</td>\n      <td>Premium</td>\n      <td>F</td>\n      <td>Silver</td>\n      <td>...</td>\n      <td>Premium</td>\n      <td>F</td>\n      <td>Blue</td>\n      <td>3.0L</td>\n      <td>6</td>\n      <td>17.0</td>\n      <td>25</td>\n      <td>230</td>\n      <td>16.0</td>\n      <td>13</td>\n    </tr>\n    <tr>\n      <th>4</th>\n      <td>32.5</td>\n      <td>17.5</td>\n      <td>1.0</td>\n      <td>2011.0</td>\n      <td>37.5</td>\n      <td>HDT</td>\n      <td>HDT_8</td>\n      <td>Premium</td>\n      <td>F</td>\n      <td>Blue</td>\n      <td>...</td>\n      <td>Not Premium</td>\n      <td>E</td>\n      <td>Black</td>\n      <td>2.4L</td>\n      <td>4</td>\n      <td>20.0</td>\n      <td>29</td>\n      <td>182</td>\n      <td>18.0</td>\n      <td>16</td>\n    </tr>\n  </tbody>\n</table>\n<p>5 rows × 30 columns</p>\n</div>"
     },
     "execution_count": 8,
     "metadata": {},
     "output_type": "execute_result"
    }
   ],
   "source": [
    "# Check conversion with df.head()\n",
    "raw_df.head()"
   ],
   "metadata": {
    "collapsed": false,
    "pycharm": {
     "name": "#%%\n"
    }
   }
  },
  {
   "cell_type": "markdown",
   "source": [
    "#### Changing engine sizes (contains 'L') to numerical values\n",
    "\n",
    "We can safely remove the 'L' at the end of the values in the two engine features, because we know that all values in this column share the same unit, liters.\n",
    "\n",
    "Important Note:\n",
    "The units of engine size are almost always expressed as liters, but it is important to remember, as a general case, that it cannot always be assumed that units are consistent. You could lose information by removing unit designation."
   ],
   "metadata": {
    "collapsed": false,
    "pycharm": {
     "name": "#%% md\n"
    }
   }
  },
  {
   "cell_type": "code",
   "execution_count": 9,
   "outputs": [
    {
     "name": "stdout",
     "output_type": "stream",
     "text": [
      "New dtype for engine and engine_appraisal: float32\n"
     ]
    }
   ],
   "source": [
    "slice_feats = ['engine', 'engine_appraisal']\n",
    "\n",
    "for feature in slice_feats:\n",
    "    # Get rid of last character\n",
    "    raw_df[feature] = raw_df[feature].str.slice(start = 0, stop = -1)\n",
    "    # Convert column to numeric and downcast\n",
    "    raw_df[feature] = pd.to_numeric(raw_df[feature], downcast = \"float\")\n",
    "print(f'New dtype for engine and engine_appraisal: {raw_df.engine.dtype}')"
   ],
   "metadata": {
    "collapsed": false,
    "pycharm": {
     "name": "#%%\n"
    }
   }
  },
  {
   "cell_type": "markdown",
   "source": [
    "## Memory Optimization"
   ],
   "metadata": {
    "collapsed": false,
    "pycharm": {
     "name": "#%% md\n"
    }
   }
  },
  {
   "cell_type": "markdown",
   "source": [
    "Memory optimization in a Jupyter notebook such as this would only be for the purposes of preventing memory errors and slow performance on constrained hardware. However, it is worth noting the data types and ways to optimize memory usage to get a better understanding of the data, their possible values, and optimal ways to store such data.\n",
    "\n",
    "For nullable integers, we can use the nullable-integer extension dtypes in pandas\n",
    "- Int8\n",
    "- Int16\n",
    "- Int32\n",
    "- Int64\n"
   ],
   "metadata": {
    "collapsed": false,
    "pycharm": {
     "name": "#%% md\n"
    }
   }
  },
  {
   "cell_type": "code",
   "execution_count": 10,
   "outputs": [],
   "source": [
    "# Begin building the schema\n",
    "# We already know the range features we converted are np.float64 given that we used np.average\n",
    "# They also have hard limits, so we can safely use a smaller float dtype\n",
    "schema={\n",
    "    'price' : 'float16',\n",
    "    'appraisal_offer': 'float16',\n",
    "    'mileage' : 'float16',\n",
    "    'mileage_appraisal' : 'float16'\n",
    "}"
   ],
   "metadata": {
    "collapsed": false,
    "pycharm": {
     "name": "#%%\n"
    }
   }
  },
  {
   "cell_type": "markdown",
   "source": [
    "#### Fuel Capacity"
   ],
   "metadata": {
    "collapsed": false,
    "pycharm": {
     "name": "#%% md\n"
    }
   }
  },
  {
   "cell_type": "code",
   "execution_count": 11,
   "outputs": [
    {
     "name": "stdout",
     "output_type": "stream",
     "text": [
      "[16. 18. 15. 19. 14. 31. 12. 13. 17. 24. 22. 38. 26. 28.  7. 21. 11. 23.\n",
      " 20. 36.  8. 10. 35.  9. 27. 32. 48. 34. 25.  2. 29. nan 33.  1. 41. 30.\n",
      " 37.]\n",
      "[21. 25. 10. 16. 18. 19. 13. 22. 20. 14. 17. 26. 15. 23. 11. 12. 28. 24.\n",
      " 31. nan 36.  9. 34. 35. 30.  8. 38. 27. 32. 33.  7. 42. 29. 48. 37. 39.]\n"
     ]
    }
   ],
   "source": [
    "# Looking at fuel_capacity and fuel_capacity_appraisal..\n",
    "print(raw_df['fuel_capacity'].unique())\n",
    "print(raw_df['fuel_capacity_appraisal'].unique())\n",
    "# All unique values can be represented by a nullable Int16 without losing data\n",
    "schema['fuel_capacity'] = 'Int16'"
   ],
   "metadata": {
    "collapsed": false,
    "pycharm": {
     "name": "#%%\n"
    }
   }
  },
  {
   "cell_type": "markdown",
   "source": [
    "It appears that fuel capacity values can be stored as a nullable Int16"
   ],
   "metadata": {
    "collapsed": false,
    "pycharm": {
     "name": "#%% md\n"
    }
   }
  },
  {
   "cell_type": "markdown",
   "source": [
    "#### Model Year\n",
    "model_year and model_year_appraisal, with type float64, can be better stored as int32 since years are inherently unsigned 'small' integers (we will keep it as signed in case some special encoding is needed later). There are also no NaN's present, so a nullable type is not needed\n"
   ],
   "metadata": {
    "collapsed": false,
    "pycharm": {
     "name": "#%% md\n"
    }
   }
  },
  {
   "cell_type": "code",
   "execution_count": 12,
   "outputs": [],
   "source": [
    "schema['model_year'] = 'int32'\n",
    "schema['model_year_appraisal'] = 'int32'"
   ],
   "metadata": {
    "collapsed": false,
    "pycharm": {
     "name": "#%%\n"
    }
   }
  },
  {
   "cell_type": "code",
   "execution_count": 13,
   "outputs": [
    {
     "name": "stdout",
     "output_type": "stream",
     "text": [
      "[ 1.  0. nan]\n"
     ]
    }
   ],
   "source": [
    "# Looking at the online appraisal feature, it appears that it is a binary feature with missing values.\n",
    "print(raw_df.online_appraisal_flag.unique())\n",
    "schema['online_appraisal_flag'] = 'Int8'\n",
    "# Although this is converting the dtype to Int8, this feature will be re-encoded as a categorical feature later"
   ],
   "metadata": {
    "collapsed": false,
    "pycharm": {
     "name": "#%%\n"
    }
   }
  },
  {
   "cell_type": "markdown",
   "source": [
    "#### Make\n",
    "There is a set of distinct makes, so we can make this a categorical variable"
   ],
   "metadata": {
    "collapsed": false,
    "pycharm": {
     "name": "#%% md\n"
    }
   }
  },
  {
   "cell_type": "code",
   "execution_count": 14,
   "outputs": [
    {
     "name": "stdout",
     "output_type": "stream",
     "text": [
      "['HDT' 'KQZ' 'CZV' 'IZA' 'OFW' 'LTX' 'FVQ' 'ARU' 'HXQ' 'BDP' 'CFK' 'CIP'\n",
      " 'AIH' 'JHO' 'BGZ' 'FJE' 'MBN' 'JJQ' 'NHY' 'NKR' 'GUK' 'LYP' 'JDZ' 'BZQ'\n",
      " 'HAE' 'BXO' 'FPH' 'HYS' 'JGV' 'HAN' 'NAJ' 'NYP' 'IZN' 'DVE' 'KDM' 'FJR'\n",
      " 'BIS']\n"
     ]
    }
   ],
   "source": [
    "print(raw_df.make.unique())\n",
    "schema['make'] = 'category'"
   ],
   "metadata": {
    "collapsed": false,
    "pycharm": {
     "name": "#%%\n"
    }
   }
  },
  {
   "cell_type": "markdown",
   "source": [
    "#### Model\n",
    "The model distinction is far more specific than make (intuitively), so it makes more sense to keep this as an object. Additionally, if we extracted the model number from this feature and simply made that a column of itself for better readability/differentiation, it would misrepresent the data because a model 10 on one make is not the same as a model 10 on another."
   ],
   "metadata": {
    "collapsed": false,
    "pycharm": {
     "name": "#%% md\n"
    }
   }
  },
  {
   "cell_type": "code",
   "execution_count": 15,
   "outputs": [
    {
     "name": "stdout",
     "output_type": "stream",
     "text": [
      "Number of models : 575\n"
     ]
    }
   ],
   "source": [
    "print(f'Number of models : {len(raw_df.model.unique())}')"
   ],
   "metadata": {
    "collapsed": false,
    "pycharm": {
     "name": "#%%\n"
    }
   }
  },
  {
   "cell_type": "markdown",
   "source": [
    "#### Trim Description, Body, Color\n",
    "These features appear to be categorical in nature with some NaN values, so the best dtype would be category."
   ],
   "metadata": {
    "collapsed": false,
    "pycharm": {
     "name": "#%% md\n"
    }
   }
  },
  {
   "cell_type": "code",
   "execution_count": 16,
   "outputs": [
    {
     "name": "stdout",
     "output_type": "stream",
     "text": [
      "trim_descrip: ['Premium' 'Not Premium' nan]\n",
      "\n",
      "body: ['E' 'F' 'B' nan 'D' 'G' 'A']\n",
      "\n",
      "color: ['Red' 'Silver' 'Black' 'Blue' 'White' 'Gray' 'Burgundy' 'Gold' 'Brown'\n",
      " 'Green' 'Pearl' 'Purple' 'Tan' 'Orange' nan 'Yellow' 'Unknown']\n"
     ]
    }
   ],
   "source": [
    "print(f'trim_descrip: {raw_df.trim_descrip.unique()}')\n",
    "print(f'\\nbody: {raw_df.body.unique()}')\n",
    "print(f'\\ncolor: {raw_df.color.unique()}')\n",
    "schema['trim_descrip'] = 'category'\n",
    "schema['trim_descrip_appraisal'] = 'category'\n",
    "schema['body'] = 'category'\n",
    "schema['body_appraisal'] = 'category'\n",
    "schema['color'] = 'category'\n",
    "schema['color_appraisal'] = 'category'"
   ],
   "metadata": {
    "collapsed": false,
    "pycharm": {
     "name": "#%%\n"
    }
   }
  },
  {
   "cell_type": "markdown",
   "source": [
    "#### Engine\n",
    "We already found that the two engine features were best changed to floats because the unit designation of 'L' was constant and they are continuous (somewhat) values.\n",
    "\n",
    "Additionally, since engine sizes cannot be extremely large values, we already downcast the output from our conversion to numeric."
   ],
   "metadata": {
    "collapsed": false,
    "pycharm": {
     "name": "#%% md\n"
    }
   }
  },
  {
   "cell_type": "code",
   "execution_count": 17,
   "outputs": [
    {
     "name": "stdout",
     "output_type": "stream",
     "text": [
      "Data type of engine and engine_appraisal after conversion: float32\n"
     ]
    }
   ],
   "source": [
    "print(f'Data type of engine and engine_appraisal after conversion: {raw_df.engine.dtype}')"
   ],
   "metadata": {
    "collapsed": false,
    "pycharm": {
     "name": "#%%\n"
    }
   }
  },
  {
   "cell_type": "markdown",
   "source": [
    "#### Cylinders\n",
    "The cylinders feature has an ordinal relationship and a typically defined range, so we can change this to int16 since it also has no null values."
   ],
   "metadata": {
    "collapsed": false,
    "pycharm": {
     "name": "#%% md\n"
    }
   }
  },
  {
   "cell_type": "code",
   "execution_count": 18,
   "outputs": [
    {
     "name": "stdout",
     "output_type": "stream",
     "text": [
      "Unique cylinder values: [ 4  6  8  3  0  5  2 10 12 16]\n",
      "Unique appraised cylinder values: [ 6  4  8  5  3 10]\n"
     ]
    }
   ],
   "source": [
    "print(f'Unique cylinder values: {raw_df.cylinders.unique()}')\n",
    "print(f'Unique appraised cylinder values: {raw_df.cylinders_appraisal.unique()}')\n",
    "schema['cylinders'] = 'int16'\n",
    "schema['cylinders_appraisal'] = 'int16'"
   ],
   "metadata": {
    "collapsed": false,
    "pycharm": {
     "name": "#%%\n"
    }
   }
  },
  {
   "cell_type": "markdown",
   "source": [
    "#### MPG, Fuel Capacity, and  Horsepower\n",
    "mpg_city, mpg_highway, fuel_capacity, and horsepower for the purchased and appraised vehicle have dtypes of float64, float64, float64, and int64. Because mpg_city, mpg_highway have null values, we can keep these as float64 (a nullable type). For horsepower, an integer column which has no null values, we can save memory and downcast this column."
   ],
   "metadata": {
    "collapsed": false,
    "pycharm": {
     "name": "#%% md\n"
    }
   }
  },
  {
   "cell_type": "code",
   "execution_count": 19,
   "outputs": [
    {
     "name": "stdout",
     "output_type": "stream",
     "text": [
      "Horsepower max: 760\n",
      "Horsepower Min: 11\n"
     ]
    }
   ],
   "source": [
    "print(f'Horsepower max: {raw_df.horsepower.max()}\\nHorsepower Min: {raw_df.horsepower.min()}')\n",
    "schema['horsepower'] = 'int32'\n",
    "schema['horsepower_appraisal'] = 'int32'"
   ],
   "metadata": {
    "collapsed": false,
    "pycharm": {
     "name": "#%%\n"
    }
   }
  },
  {
   "cell_type": "markdown",
   "source": [
    "#### Market\n",
    "Market is listed as a string value representing the market in which the transaction occurred. This means that this number has no ordinal relationship, so it should be made a categorical column."
   ],
   "metadata": {
    "collapsed": false,
    "pycharm": {
     "name": "#%% md\n"
    }
   }
  },
  {
   "cell_type": "code",
   "execution_count": 20,
   "outputs": [
    {
     "name": "stdout",
     "output_type": "stream",
     "text": [
      "Market Max: 16\n",
      "Market Min: 1\n",
      "[1, 2, 3, 4, 5, 6, 7, 8, 9, 10, 11, 12, 13, 14, 15, 16]\n"
     ]
    }
   ],
   "source": [
    "print(f'Market Max: {raw_df.market.max()}\\nMarket Min: {raw_df.market.min()}')\n",
    "print(sorted(raw_df.market.unique()))\n",
    "schema['market'] = 'category'"
   ],
   "metadata": {
    "collapsed": false,
    "pycharm": {
     "name": "#%%\n"
    }
   }
  },
  {
   "cell_type": "markdown",
   "source": [
    "#### Data type inspection and Memory Optimization: Conclusions\n",
    "\n",
    "Using the schema created during our inspection of the feature's data types, we can get a ~75% reduction in memory usage! Again, this is not a requirement for performing data science tasks, but it is certainly a good exercise on learning where performance can be gained when working with large amounts of data. In a data storage layer, this data is certainly optimized to be as small as possible to save on costs; however, its"
   ],
   "metadata": {
    "collapsed": false,
    "pycharm": {
     "name": "#%% md\n"
    }
   }
  },
  {
   "cell_type": "code",
   "execution_count": 50,
   "outputs": [
    {
     "name": "stdout",
     "output_type": "stream",
     "text": [
      "Raw Dataframe Memory Usage: 224052594 bytes ... 224.05 Mb\n",
      "Optimized Dataframe Memory Usage: 54165615 bytes ... 54.17 Mb\n",
      "% Memory Reduction from raw dataframe to optimized dataframe  75.82 %\n",
      "\n",
      "<class 'pandas.core.frame.DataFrame'>\n",
      "RangeIndex: 200000 entries, 0 to 199999\n",
      "Data columns (total 30 columns):\n",
      " #   Column                   Non-Null Count   Dtype   \n",
      "---  ------                   --------------   -----   \n",
      " 0   price                    200000 non-null  float16 \n",
      " 1   appraisal_offer          200000 non-null  float16 \n",
      " 2   online_appraisal_flag    196166 non-null  Int8    \n",
      " 3   model_year               200000 non-null  int32   \n",
      " 4   mileage                  200000 non-null  float16 \n",
      " 5   make                     200000 non-null  category\n",
      " 6   model                    200000 non-null  object  \n",
      " 7   trim_descrip             176159 non-null  category\n",
      " 8   body                     189741 non-null  category\n",
      " 9   color                    199967 non-null  category\n",
      " 10  engine                   199999 non-null  float32 \n",
      " 11  cylinders                200000 non-null  int16   \n",
      " 12  mpg_city                 199410 non-null  float64 \n",
      " 13  mpg_highway              199410 non-null  float64 \n",
      " 14  horsepower               200000 non-null  int32   \n",
      " 15  fuel_capacity            199996 non-null  Int16   \n",
      " 16  model_year_appraisal     200000 non-null  int32   \n",
      " 17  mileage_appraisal        200000 non-null  float16 \n",
      " 18  make_appraisal           200000 non-null  object  \n",
      " 19  model_appraisal          178492 non-null  object  \n",
      " 20  trim_descrip_appraisal   168920 non-null  category\n",
      " 21  body_appraisal           200000 non-null  category\n",
      " 22  color_appraisal          198682 non-null  category\n",
      " 23  engine_appraisal         200000 non-null  float32 \n",
      " 24  cylinders_appraisal      200000 non-null  int16   \n",
      " 25  mpg_city_appraisal       199999 non-null  float64 \n",
      " 26  mpg_highway_appraisal    200000 non-null  int64   \n",
      " 27  horsepower_appraisal     200000 non-null  int32   \n",
      " 28  fuel_capacity_appraisal  199688 non-null  float64 \n",
      " 29  market                   200000 non-null  category\n",
      "dtypes: Int16(1), Int8(1), category(8), float16(4), float32(2), float64(4), int16(2), int32(4), int64(1), object(3)\n",
      "memory usage: 21.6+ MB\n"
     ]
    }
   ],
   "source": [
    "# Astype conversion\n",
    "trimmed_raw_df = raw_df.astype(schema)\n",
    "trimmed_raw_memory = trimmed_raw_df.memory_usage(deep=True).sum()\n",
    "\n",
    "print(f'Raw Dataframe Memory Usage: {raw_memory} bytes ... {raw_memory/1000000:.2f} Mb')\n",
    "print(f'Optimized Dataframe Memory Usage: {trimmed_raw_memory} bytes ... {trimmed_raw_memory/1000000:.2f} Mb')\n",
    "print(f'% Memory Reduction from raw dataframe to optimized dataframe {((raw_memory - trimmed_raw_memory) / raw_memory * 100) : .2f} %\\n')\n",
    "trimmed_raw_df.info()"
   ],
   "metadata": {
    "collapsed": false,
    "pycharm": {
     "name": "#%%\n"
    }
   }
  },
  {
   "cell_type": "markdown",
   "source": [
    "### Analyzing Nulls"
   ],
   "metadata": {
    "collapsed": false,
    "pycharm": {
     "name": "#%% md\n"
    }
   }
  },
  {
   "cell_type": "code",
   "execution_count": 49,
   "outputs": [
    {
     "data": {
      "text/plain": "<Figure size 640x480 with 1 Axes>",
      "image/png": "[encoded data removed]"
     },
     "metadata": {},
     "output_type": "display_data"
    }
   ],
   "source": [
    "# Make a list of the percentage of null values for each column\n",
    "null_portions = [(trimmed_raw_df[column].isnull().sum()/trimmed_raw_df.shape[0]*100) for column in trimmed_raw_df.columns ]\n",
    "null_dict = dict(zip(list(trimmed_raw_df.columns), null_portions))\n",
    "\n",
    "# Plot the null percentage for each column\n",
    "fig = plt.figure()\n",
    "ax = fig.add_axes([0,0,1,1])\n",
    "ax.bar(list(trimmed_raw_df.columns), null_portions)\n",
    "plt.xticks(rotation = 90)\n",
    "plt.title(\"Percentage Null by Column\")\n",
    "plt.ylabel(\"%\")\n",
    "plt.show()"
   ],
   "metadata": {
    "collapsed": false,
    "pycharm": {
     "name": "#%%\n"
    }
   }
  },
  {
   "cell_type": "markdown",
   "source": [
    "Looking at the % of null values in each column, it appears that `online_appraisal_flag`, `trim_descrip`, `body`, `model_appraisal`, and `trim_descrip_appraisal` have significant portions of nulls, with `mpg_city`, `mpg_highway`, `color_appraisal`, and `fuel_capacity_appraisal` having a small number of nulls as well.\n",
    "\n",
    "The next question we can formulate from this information is, \"How concentrated are these null values?\".\n",
    "\n",
    "To check this, we can look at the portion of rows that have at least one null.\n"
   ],
   "metadata": {
    "collapsed": false,
    "pycharm": {
     "name": "#%% md\n"
    }
   }
  },
  {
   "cell_type": "code",
   "execution_count": 56,
   "outputs": [
    {
     "name": "stdout",
     "output_type": "stream",
     "text": [
      "Rows that have at least one null:\n",
      "Count - 71317\n",
      "Percentage - 35.66%\n"
     ]
    }
   ],
   "source": [
    "print(f'Rows that have at least one null:\\nCount - {trimmed_raw_df.isna().any(axis=1).sum()}\\nPercentage - {trimmed_raw_df.isna().any(axis=1).sum()/trimmed_raw_df.shape[0]*100:.2f}%')"
   ],
   "metadata": {
    "collapsed": false,
    "pycharm": {
     "name": "#%%\n"
    }
   }
  },
  {
   "cell_type": "markdown",
   "source": [
    "If we look at the percentage of rows that have null values, we can see that it represents over a third of our dataset!\n",
    "This means that our null values are not entirely concentrated (ex. rows with multiple nulls).\n",
    "If rows with null values made up only as much as our most null column, we could potentially justify dropping them entirely.\n",
    "\n",
    "Now we need to analyze our null rows against non-null, to check if there are any striking differences in distribution."
   ],
   "metadata": {
    "collapsed": false,
    "pycharm": {
     "name": "#%% md\n"
    }
   }
  },
  {
   "cell_type": "code",
   "execution_count": null,
   "outputs": [],
   "source": [],
   "metadata": {
    "collapsed": false,
    "pycharm": {
     "name": "#%%\n"
    }
   }
  }
 ],
 "metadata": {
  "kernelspec": {
   "display_name": "Python 3",
   "language": "python",
   "name": "python3"
  },
  "language_info": {
   "codemirror_mode": {
    "name": "ipython",
    "version": 2
   },
   "file_extension": ".py",
   "mimetype": "text/x-python",
   "name": "python",
   "nbconvert_exporter": "python",
   "pygments_lexer": "ipython2",
   "version": "2.7.6"
  }
 },
 "nbformat": 4,
 "nbformat_minor": 0
}