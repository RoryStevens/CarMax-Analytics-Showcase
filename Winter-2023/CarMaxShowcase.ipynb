{
 "cells": [
  {
   "cell_type": "markdown",
   "source": [
    "# Title\n",
    "## Name\n",
    "Desc"
   ],
   "metadata": {
    "collapsed": false,
    "pycharm": {
     "name": "#%% md\n"
    }
   }
  },
  {
   "cell_type": "code",
   "execution_count": 54,
   "outputs": [],
   "source": [
    "# Imports\n",
    "import re\n",
    "import time\n",
    "import pandas as pd\n",
    "pd.options.mode.chained_assignment = None  # default='warn'\n",
    "import numpy as np\n",
    "import seaborn as sns"
   ],
   "metadata": {
    "collapsed": false,
    "pycharm": {
     "name": "#%%\n"
    }
   }
  },
  {
   "cell_type": "markdown",
   "source": [
    "### Load Data"
   ],
   "metadata": {
    "collapsed": false,
    "pycharm": {
     "name": "#%% md\n"
    }
   }
  },
  {
   "cell_type": "code",
   "execution_count": 41,
   "outputs": [
    {
     "name": "stdout",
     "output_type": "stream",
     "text": [
      "(200000, 30)\n"
     ]
    },
    {
     "data": {
      "text/plain": "          price appraisal_offer  online_appraisal_flag  model_year  \\\n0  $20k to $25k      $0k to $5k                    1.0      2014.0   \n1  $15k to $20k      $0k to $5k                    0.0      2006.0   \n2  $30k to $35k    $35k to $40k                    1.0      2014.0   \n3  $35k to $40k     $5k to $10k                    1.0      2014.0   \n4  $30k to $35k    $15k to $20k                    1.0      2011.0   \n\n            mileage make   model trim_descrip body   color  ...  \\\n0  15k to 20k miles  HDT  HDT_12      Premium    E     Red  ...   \n1       100k+ miles  KQZ  KQZ_23      Premium    E  Silver  ...   \n2   5k to 10k miles  CZV  CZV_10      Premium    E   Black  ...   \n3  15k to 20k miles  IZA  IZA_19      Premium    F  Silver  ...   \n4  35k to 40k miles  HDT   HDT_8      Premium    F    Blue  ...   \n\n  trim_descrip_appraisal  body_appraisal  color_appraisal  engine_appraisal  \\\n0                    NaN               D           Silver              4.0L   \n1            Not Premium               D             Gold              4.2L   \n2                    NaN               E              Red              2.0L   \n3                Premium               F             Blue              3.0L   \n4            Not Premium               E            Black              2.4L   \n\n   cylinders_appraisal  mpg_city_appraisal  mpg_highway_appraisal  \\\n0                    6                17.0                     21   \n1                    6                16.0                     21   \n2                    4                41.0                     38   \n3                    6                17.0                     25   \n4                    4                20.0                     29   \n\n  horsepower_appraisal fuel_capacity_appraisal market  \n0                  236                    21.0     13  \n1                  205                    25.0     11  \n2                  181                    10.0     13  \n3                  230                    16.0     13  \n4                  182                    18.0     16  \n\n[5 rows x 30 columns]",
      "text/html": "<div>\n<style scoped>\n    .dataframe tbody tr th:only-of-type {\n        vertical-align: middle;\n    }\n\n    .dataframe tbody tr th {\n        vertical-align: top;\n    }\n\n    .dataframe thead th {\n        text-align: right;\n    }\n</style>\n<table border=\"1\" class=\"dataframe\">\n  <thead>\n    <tr style=\"text-align: right;\">\n      <th></th>\n      <th>price</th>\n      <th>appraisal_offer</th>\n      <th>online_appraisal_flag</th>\n      <th>model_year</th>\n      <th>mileage</th>\n      <th>make</th>\n      <th>model</th>\n      <th>trim_descrip</th>\n      <th>body</th>\n      <th>color</th>\n      <th>...</th>\n      <th>trim_descrip_appraisal</th>\n      <th>body_appraisal</th>\n      <th>color_appraisal</th>\n      <th>engine_appraisal</th>\n      <th>cylinders_appraisal</th>\n      <th>mpg_city_appraisal</th>\n      <th>mpg_highway_appraisal</th>\n      <th>horsepower_appraisal</th>\n      <th>fuel_capacity_appraisal</th>\n      <th>market</th>\n    </tr>\n  </thead>\n  <tbody>\n    <tr>\n      <th>0</th>\n      <td>$20k to $25k</td>\n      <td>$0k to $5k</td>\n      <td>1.0</td>\n      <td>2014.0</td>\n      <td>15k to 20k miles</td>\n      <td>HDT</td>\n      <td>HDT_12</td>\n      <td>Premium</td>\n      <td>E</td>\n      <td>Red</td>\n      <td>...</td>\n      <td>NaN</td>\n      <td>D</td>\n      <td>Silver</td>\n      <td>4.0L</td>\n      <td>6</td>\n      <td>17.0</td>\n      <td>21</td>\n      <td>236</td>\n      <td>21.0</td>\n      <td>13</td>\n    </tr>\n    <tr>\n      <th>1</th>\n      <td>$15k to $20k</td>\n      <td>$0k to $5k</td>\n      <td>0.0</td>\n      <td>2006.0</td>\n      <td>100k+ miles</td>\n      <td>KQZ</td>\n      <td>KQZ_23</td>\n      <td>Premium</td>\n      <td>E</td>\n      <td>Silver</td>\n      <td>...</td>\n      <td>Not Premium</td>\n      <td>D</td>\n      <td>Gold</td>\n      <td>4.2L</td>\n      <td>6</td>\n      <td>16.0</td>\n      <td>21</td>\n      <td>205</td>\n      <td>25.0</td>\n      <td>11</td>\n    </tr>\n    <tr>\n      <th>2</th>\n      <td>$30k to $35k</td>\n      <td>$35k to $40k</td>\n      <td>1.0</td>\n      <td>2014.0</td>\n      <td>5k to 10k miles</td>\n      <td>CZV</td>\n      <td>CZV_10</td>\n      <td>Premium</td>\n      <td>E</td>\n      <td>Black</td>\n      <td>...</td>\n      <td>NaN</td>\n      <td>E</td>\n      <td>Red</td>\n      <td>2.0L</td>\n      <td>4</td>\n      <td>41.0</td>\n      <td>38</td>\n      <td>181</td>\n      <td>10.0</td>\n      <td>13</td>\n    </tr>\n    <tr>\n      <th>3</th>\n      <td>$35k to $40k</td>\n      <td>$5k to $10k</td>\n      <td>1.0</td>\n      <td>2014.0</td>\n      <td>15k to 20k miles</td>\n      <td>IZA</td>\n      <td>IZA_19</td>\n      <td>Premium</td>\n      <td>F</td>\n      <td>Silver</td>\n      <td>...</td>\n      <td>Premium</td>\n      <td>F</td>\n      <td>Blue</td>\n      <td>3.0L</td>\n      <td>6</td>\n      <td>17.0</td>\n      <td>25</td>\n      <td>230</td>\n      <td>16.0</td>\n      <td>13</td>\n    </tr>\n    <tr>\n      <th>4</th>\n      <td>$30k to $35k</td>\n      <td>$15k to $20k</td>\n      <td>1.0</td>\n      <td>2011.0</td>\n      <td>35k to 40k miles</td>\n      <td>HDT</td>\n      <td>HDT_8</td>\n      <td>Premium</td>\n      <td>F</td>\n      <td>Blue</td>\n      <td>...</td>\n      <td>Not Premium</td>\n      <td>E</td>\n      <td>Black</td>\n      <td>2.4L</td>\n      <td>4</td>\n      <td>20.0</td>\n      <td>29</td>\n      <td>182</td>\n      <td>18.0</td>\n      <td>16</td>\n    </tr>\n  </tbody>\n</table>\n<p>5 rows × 30 columns</p>\n</div>"
     },
     "execution_count": 41,
     "metadata": {},
     "output_type": "execute_result"
    }
   ],
   "source": [
    "raw_df = pd.read_csv(\"./Data/ShowcaseDataWinter2023/ShowcaseDataWinter2023.csv\",)\n",
    "print(raw_df.shape)\n",
    "raw_df.head()"
   ],
   "metadata": {
    "collapsed": false,
    "pycharm": {
     "name": "#%%\n"
    }
   }
  },
  {
   "cell_type": "code",
   "execution_count": 55,
   "outputs": [
    {
     "name": "stdout",
     "output_type": "stream",
     "text": [
      "(300, 30)\n"
     ]
    },
    {
     "data": {
      "text/plain": "          price appraisal_offer  online_appraisal_flag  model_year  \\\n0  $20k to $25k      $0k to $5k                    1.0      2014.0   \n1  $15k to $20k      $0k to $5k                    0.0      2006.0   \n2  $30k to $35k    $35k to $40k                    1.0      2014.0   \n3  $35k to $40k     $5k to $10k                    1.0      2014.0   \n4  $30k to $35k    $15k to $20k                    1.0      2011.0   \n\n            mileage make   model trim_descrip body   color  ...  \\\n0  15k to 20k miles  HDT  HDT_12      Premium    E     Red  ...   \n1       100k+ miles  KQZ  KQZ_23      Premium    E  Silver  ...   \n2   5k to 10k miles  CZV  CZV_10      Premium    E   Black  ...   \n3  15k to 20k miles  IZA  IZA_19      Premium    F  Silver  ...   \n4  35k to 40k miles  HDT   HDT_8      Premium    F    Blue  ...   \n\n  trim_descrip_appraisal  body_appraisal  color_appraisal  engine_appraisal  \\\n0                    NaN               D           Silver              4.0L   \n1            Not Premium               D             Gold              4.2L   \n2                    NaN               E              Red              2.0L   \n3                Premium               F             Blue              3.0L   \n4            Not Premium               E            Black              2.4L   \n\n   cylinders_appraisal  mpg_city_appraisal  mpg_highway_appraisal  \\\n0                    6                17.0                     21   \n1                    6                16.0                     21   \n2                    4                41.0                     38   \n3                    6                17.0                     25   \n4                    4                20.0                     29   \n\n  horsepower_appraisal fuel_capacity_appraisal market  \n0                  236                    21.0     13  \n1                  205                    25.0     11  \n2                  181                    10.0     13  \n3                  230                    16.0     13  \n4                  182                    18.0     16  \n\n[5 rows x 30 columns]",
      "text/html": "<div>\n<style scoped>\n    .dataframe tbody tr th:only-of-type {\n        vertical-align: middle;\n    }\n\n    .dataframe tbody tr th {\n        vertical-align: top;\n    }\n\n    .dataframe thead th {\n        text-align: right;\n    }\n</style>\n<table border=\"1\" class=\"dataframe\">\n  <thead>\n    <tr style=\"text-align: right;\">\n      <th></th>\n      <th>price</th>\n      <th>appraisal_offer</th>\n      <th>online_appraisal_flag</th>\n      <th>model_year</th>\n      <th>mileage</th>\n      <th>make</th>\n      <th>model</th>\n      <th>trim_descrip</th>\n      <th>body</th>\n      <th>color</th>\n      <th>...</th>\n      <th>trim_descrip_appraisal</th>\n      <th>body_appraisal</th>\n      <th>color_appraisal</th>\n      <th>engine_appraisal</th>\n      <th>cylinders_appraisal</th>\n      <th>mpg_city_appraisal</th>\n      <th>mpg_highway_appraisal</th>\n      <th>horsepower_appraisal</th>\n      <th>fuel_capacity_appraisal</th>\n      <th>market</th>\n    </tr>\n  </thead>\n  <tbody>\n    <tr>\n      <th>0</th>\n      <td>$20k to $25k</td>\n      <td>$0k to $5k</td>\n      <td>1.0</td>\n      <td>2014.0</td>\n      <td>15k to 20k miles</td>\n      <td>HDT</td>\n      <td>HDT_12</td>\n      <td>Premium</td>\n      <td>E</td>\n      <td>Red</td>\n      <td>...</td>\n      <td>NaN</td>\n      <td>D</td>\n      <td>Silver</td>\n      <td>4.0L</td>\n      <td>6</td>\n      <td>17.0</td>\n      <td>21</td>\n      <td>236</td>\n      <td>21.0</td>\n      <td>13</td>\n    </tr>\n    <tr>\n      <th>1</th>\n      <td>$15k to $20k</td>\n      <td>$0k to $5k</td>\n      <td>0.0</td>\n      <td>2006.0</td>\n      <td>100k+ miles</td>\n      <td>KQZ</td>\n      <td>KQZ_23</td>\n      <td>Premium</td>\n      <td>E</td>\n      <td>Silver</td>\n      <td>...</td>\n      <td>Not Premium</td>\n      <td>D</td>\n      <td>Gold</td>\n      <td>4.2L</td>\n      <td>6</td>\n      <td>16.0</td>\n      <td>21</td>\n      <td>205</td>\n      <td>25.0</td>\n      <td>11</td>\n    </tr>\n    <tr>\n      <th>2</th>\n      <td>$30k to $35k</td>\n      <td>$35k to $40k</td>\n      <td>1.0</td>\n      <td>2014.0</td>\n      <td>5k to 10k miles</td>\n      <td>CZV</td>\n      <td>CZV_10</td>\n      <td>Premium</td>\n      <td>E</td>\n      <td>Black</td>\n      <td>...</td>\n      <td>NaN</td>\n      <td>E</td>\n      <td>Red</td>\n      <td>2.0L</td>\n      <td>4</td>\n      <td>41.0</td>\n      <td>38</td>\n      <td>181</td>\n      <td>10.0</td>\n      <td>13</td>\n    </tr>\n    <tr>\n      <th>3</th>\n      <td>$35k to $40k</td>\n      <td>$5k to $10k</td>\n      <td>1.0</td>\n      <td>2014.0</td>\n      <td>15k to 20k miles</td>\n      <td>IZA</td>\n      <td>IZA_19</td>\n      <td>Premium</td>\n      <td>F</td>\n      <td>Silver</td>\n      <td>...</td>\n      <td>Premium</td>\n      <td>F</td>\n      <td>Blue</td>\n      <td>3.0L</td>\n      <td>6</td>\n      <td>17.0</td>\n      <td>25</td>\n      <td>230</td>\n      <td>16.0</td>\n      <td>13</td>\n    </tr>\n    <tr>\n      <th>4</th>\n      <td>$30k to $35k</td>\n      <td>$15k to $20k</td>\n      <td>1.0</td>\n      <td>2011.0</td>\n      <td>35k to 40k miles</td>\n      <td>HDT</td>\n      <td>HDT_8</td>\n      <td>Premium</td>\n      <td>F</td>\n      <td>Blue</td>\n      <td>...</td>\n      <td>Not Premium</td>\n      <td>E</td>\n      <td>Black</td>\n      <td>2.4L</td>\n      <td>4</td>\n      <td>20.0</td>\n      <td>29</td>\n      <td>182</td>\n      <td>18.0</td>\n      <td>16</td>\n    </tr>\n  </tbody>\n</table>\n<p>5 rows × 30 columns</p>\n</div>"
     },
     "execution_count": 55,
     "metadata": {},
     "output_type": "execute_result"
    }
   ],
   "source": [
    "raw_limited_df = raw_df.iloc[:300,:]\n",
    "print(raw_limited_df.shape)\n",
    "raw_limited_df.head()"
   ],
   "metadata": {
    "collapsed": false,
    "pycharm": {
     "name": "#%%\n"
    }
   }
  },
  {
   "cell_type": "code",
   "execution_count": 56,
   "outputs": [],
   "source": [
    "\n",
    "def convert_range(range_ : str) -> np.float64:\n",
    "    '''\n",
    "    Converts rages (ex. price and mileage) to their midpoint as a float\n",
    "    :param range_:\n",
    "    :return:\n",
    "    '''\n",
    "    return np.average(list(map(int, re.findall(r'\\d+', range_))))"
   ],
   "metadata": {
    "collapsed": false,
    "pycharm": {
     "name": "#%%\n"
    }
   }
  },
  {
   "cell_type": "code",
   "execution_count": 57,
   "outputs": [
    {
     "name": "stdout",
     "output_type": "stream",
     "text": [
      "price                      float64\n",
      "appraisal_offer            float64\n",
      "online_appraisal_flag      float64\n",
      "model_year                 float64\n",
      "mileage                    float64\n",
      "make                        object\n",
      "model                       object\n",
      "trim_descrip                object\n",
      "body                        object\n",
      "color                       object\n",
      "engine                      object\n",
      "cylinders                    int64\n",
      "mpg_city                   float64\n",
      "mpg_highway                float64\n",
      "horsepower                   int64\n",
      "fuel_capacity              float64\n",
      "model_year_appraisal       float64\n",
      "mileage_appraisal          float64\n",
      "make_appraisal              object\n",
      "model_appraisal             object\n",
      "trim_descrip_appraisal      object\n",
      "body_appraisal              object\n",
      "color_appraisal             object\n",
      "engine_appraisal            object\n",
      "cylinders_appraisal          int64\n",
      "mpg_city_appraisal         float64\n",
      "mpg_highway_appraisal        int64\n",
      "horsepower_appraisal         int64\n",
      "fuel_capacity_appraisal    float64\n",
      "market                       int64\n",
      "dtype: object\n"
     ]
    },
    {
     "data": {
      "text/plain": "   price  appraisal_offer  online_appraisal_flag  model_year  mileage make  \\\n0   22.5              2.5                    1.0      2014.0     17.5  HDT   \n1   17.5              2.5                    0.0      2006.0    100.0  KQZ   \n2   32.5             37.5                    1.0      2014.0      7.5  CZV   \n3   37.5              7.5                    1.0      2014.0     17.5  IZA   \n4   32.5             17.5                    1.0      2011.0     37.5  HDT   \n\n    model trim_descrip body   color  ... trim_descrip_appraisal  \\\n0  HDT_12      Premium    E     Red  ...                    NaN   \n1  KQZ_23      Premium    E  Silver  ...            Not Premium   \n2  CZV_10      Premium    E   Black  ...                    NaN   \n3  IZA_19      Premium    F  Silver  ...                Premium   \n4   HDT_8      Premium    F    Blue  ...            Not Premium   \n\n   body_appraisal  color_appraisal  engine_appraisal  cylinders_appraisal  \\\n0               D           Silver              4.0L                    6   \n1               D             Gold              4.2L                    6   \n2               E              Red              2.0L                    4   \n3               F             Blue              3.0L                    6   \n4               E            Black              2.4L                    4   \n\n   mpg_city_appraisal  mpg_highway_appraisal  horsepower_appraisal  \\\n0                17.0                     21                   236   \n1                16.0                     21                   205   \n2                41.0                     38                   181   \n3                17.0                     25                   230   \n4                20.0                     29                   182   \n\n  fuel_capacity_appraisal market  \n0                    21.0     13  \n1                    25.0     11  \n2                    10.0     13  \n3                    16.0     13  \n4                    18.0     16  \n\n[5 rows x 30 columns]",
      "text/html": "<div>\n<style scoped>\n    .dataframe tbody tr th:only-of-type {\n        vertical-align: middle;\n    }\n\n    .dataframe tbody tr th {\n        vertical-align: top;\n    }\n\n    .dataframe thead th {\n        text-align: right;\n    }\n</style>\n<table border=\"1\" class=\"dataframe\">\n  <thead>\n    <tr style=\"text-align: right;\">\n      <th></th>\n      <th>price</th>\n      <th>appraisal_offer</th>\n      <th>online_appraisal_flag</th>\n      <th>model_year</th>\n      <th>mileage</th>\n      <th>make</th>\n      <th>model</th>\n      <th>trim_descrip</th>\n      <th>body</th>\n      <th>color</th>\n      <th>...</th>\n      <th>trim_descrip_appraisal</th>\n      <th>body_appraisal</th>\n      <th>color_appraisal</th>\n      <th>engine_appraisal</th>\n      <th>cylinders_appraisal</th>\n      <th>mpg_city_appraisal</th>\n      <th>mpg_highway_appraisal</th>\n      <th>horsepower_appraisal</th>\n      <th>fuel_capacity_appraisal</th>\n      <th>market</th>\n    </tr>\n  </thead>\n  <tbody>\n    <tr>\n      <th>0</th>\n      <td>22.5</td>\n      <td>2.5</td>\n      <td>1.0</td>\n      <td>2014.0</td>\n      <td>17.5</td>\n      <td>HDT</td>\n      <td>HDT_12</td>\n      <td>Premium</td>\n      <td>E</td>\n      <td>Red</td>\n      <td>...</td>\n      <td>NaN</td>\n      <td>D</td>\n      <td>Silver</td>\n      <td>4.0L</td>\n      <td>6</td>\n      <td>17.0</td>\n      <td>21</td>\n      <td>236</td>\n      <td>21.0</td>\n      <td>13</td>\n    </tr>\n    <tr>\n      <th>1</th>\n      <td>17.5</td>\n      <td>2.5</td>\n      <td>0.0</td>\n      <td>2006.0</td>\n      <td>100.0</td>\n      <td>KQZ</td>\n      <td>KQZ_23</td>\n      <td>Premium</td>\n      <td>E</td>\n      <td>Silver</td>\n      <td>...</td>\n      <td>Not Premium</td>\n      <td>D</td>\n      <td>Gold</td>\n      <td>4.2L</td>\n      <td>6</td>\n      <td>16.0</td>\n      <td>21</td>\n      <td>205</td>\n      <td>25.0</td>\n      <td>11</td>\n    </tr>\n    <tr>\n      <th>2</th>\n      <td>32.5</td>\n      <td>37.5</td>\n      <td>1.0</td>\n      <td>2014.0</td>\n      <td>7.5</td>\n      <td>CZV</td>\n      <td>CZV_10</td>\n      <td>Premium</td>\n      <td>E</td>\n      <td>Black</td>\n      <td>...</td>\n      <td>NaN</td>\n      <td>E</td>\n      <td>Red</td>\n      <td>2.0L</td>\n      <td>4</td>\n      <td>41.0</td>\n      <td>38</td>\n      <td>181</td>\n      <td>10.0</td>\n      <td>13</td>\n    </tr>\n    <tr>\n      <th>3</th>\n      <td>37.5</td>\n      <td>7.5</td>\n      <td>1.0</td>\n      <td>2014.0</td>\n      <td>17.5</td>\n      <td>IZA</td>\n      <td>IZA_19</td>\n      <td>Premium</td>\n      <td>F</td>\n      <td>Silver</td>\n      <td>...</td>\n      <td>Premium</td>\n      <td>F</td>\n      <td>Blue</td>\n      <td>3.0L</td>\n      <td>6</td>\n      <td>17.0</td>\n      <td>25</td>\n      <td>230</td>\n      <td>16.0</td>\n      <td>13</td>\n    </tr>\n    <tr>\n      <th>4</th>\n      <td>32.5</td>\n      <td>17.5</td>\n      <td>1.0</td>\n      <td>2011.0</td>\n      <td>37.5</td>\n      <td>HDT</td>\n      <td>HDT_8</td>\n      <td>Premium</td>\n      <td>F</td>\n      <td>Blue</td>\n      <td>...</td>\n      <td>Not Premium</td>\n      <td>E</td>\n      <td>Black</td>\n      <td>2.4L</td>\n      <td>4</td>\n      <td>20.0</td>\n      <td>29</td>\n      <td>182</td>\n      <td>18.0</td>\n      <td>16</td>\n    </tr>\n  </tbody>\n</table>\n<p>5 rows × 30 columns</p>\n</div>"
     },
     "execution_count": 57,
     "metadata": {},
     "output_type": "execute_result"
    }
   ],
   "source": [
    "range_feats = ['price', 'appraisal_offer', 'mileage', 'mileage_appraisal']\n",
    "\n",
    "for feature in range_feats:\n",
    "    raw_limited_df[feature] = raw_limited_df[feature].apply(convert_range)\n",
    "print(raw_limited_df.dtypes)\n",
    "raw_limited_df.head()"
   ],
   "metadata": {
    "collapsed": false,
    "pycharm": {
     "name": "#%%\n"
    }
   }
  },
  {
   "cell_type": "code",
   "execution_count": 59,
   "outputs": [
    {
     "data": {
      "text/plain": "price                      float64\nappraisal_offer            float64\nonline_appraisal_flag      float64\nmodel_year                 float64\nmileage                    float64\nmake                        object\nmodel                       object\ntrim_descrip                object\nbody                        object\ncolor                       object\nengine                     float32\ncylinders                    int64\nmpg_city                   float64\nmpg_highway                float64\nhorsepower                   int64\nfuel_capacity              float64\nmodel_year_appraisal       float64\nmileage_appraisal          float64\nmake_appraisal              object\nmodel_appraisal             object\ntrim_descrip_appraisal      object\nbody_appraisal              object\ncolor_appraisal             object\nengine_appraisal           float32\ncylinders_appraisal          int64\nmpg_city_appraisal         float64\nmpg_highway_appraisal        int64\nhorsepower_appraisal         int64\nfuel_capacity_appraisal    float64\nmarket                       int64\ndtype: object"
     },
     "execution_count": 59,
     "metadata": {},
     "output_type": "execute_result"
    }
   ],
   "source": [
    "slice_feats = ['engine', 'engine_appraisal']\n",
    "\n",
    "for feature in slice_feats:\n",
    "    raw_limited_df[feature] = raw_limited_df[feature].str.slice(start = 0, stop = -1)\n",
    "    raw_limited_df[feature] = pd.to_numeric(raw_limited_df[feature], downcast = \"float\")\n",
    "raw_limited_df.dtypes"
   ],
   "metadata": {
    "collapsed": false,
    "pycharm": {
     "name": "#%%\n"
    }
   }
  },
  {
   "cell_type": "code",
   "execution_count": 63,
   "outputs": [
    {
     "name": "stdout",
     "output_type": "stream",
     "text": [
      "[16. 18. 15. 19. 14. 31. 12. 13. 17. 24. 22. 38. 26. 28.  7. 21. 11. 23.\n",
      " 20. 36.  8. 10. 35.  9. 27. 32. 48. 34. 25.  2. 29. nan 33.  1. 41. 30.\n",
      " 37.]\n"
     ]
    }
   ],
   "source": [
    "print(raw_df['fuel_capacity'].unique())\n",
    "# All unique values can be represented by an int without losing data\n"
   ],
   "metadata": {
    "collapsed": false,
    "pycharm": {
     "name": "#%%\n"
    }
   }
  },
  {
   "cell_type": "code",
   "execution_count": 64,
   "outputs": [
    {
     "data": {
      "text/plain": "array([2014., 2006., 2011., 2013., 2012., 2015., 2010., 2009., 2016.,\n       2007., 2008., 2017., 2005., 2004., 2000., 1998., 2003., 2002.,\n       1991., 2001., 1996., 1993., 1999., 1994.])"
     },
     "execution_count": 64,
     "metadata": {},
     "output_type": "execute_result"
    }
   ],
   "source": [
    "raw_df['model_year'].unique()\n",
    "# All values unique, can be parsed as int64 instead"
   ],
   "metadata": {
    "collapsed": false,
    "pycharm": {
     "name": "#%%\n"
    }
   }
  }
 ],
 "metadata": {
  "kernelspec": {
   "display_name": "Python 3",
   "language": "python",
   "name": "python3"
  },
  "language_info": {
   "codemirror_mode": {
    "name": "ipython",
    "version": 2
   },
   "file_extension": ".py",
   "mimetype": "text/x-python",
   "name": "python",
   "nbconvert_exporter": "python",
   "pygments_lexer": "ipython2",
   "version": "2.7.6"
  }
 },
 "nbformat": 4,
 "nbformat_minor": 0
}